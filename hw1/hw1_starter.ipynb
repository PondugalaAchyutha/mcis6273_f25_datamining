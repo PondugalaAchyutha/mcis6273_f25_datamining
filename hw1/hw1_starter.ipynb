{
 "cells": [
  {
   "cell_type": "markdown",
   "id": "440f4ed5-37d8-4248-8bef-8337deb15ce2",
   "metadata": {},
   "source": [
    "# HW1 SOLUTION : [YOUR_NAME | YOUR STUDENT ID]"
   ]
  },
  {
   "attachments": {},
   "cell_type": "markdown",
   "id": "1cff700c-a716-42bc-ae1e-7c2dc0bb5251",
   "metadata": {},
   "source": [
    "### (80%) Perform basic data engineering on the light pollution dataset. \n",
    "\n",
    "\n",
    "For our data engineering we want to broadly \n",
    "complete the following:\n",
    "\n",
    "1. combine all the GaN files into a single file and thus a\n",
    "   single Pandas DataFrame,\n",
    "2. convert specific data fields to numeric fields using\n",
    "   Pandas,\n",
    "3. combine date and time fields for easier time series evaluation,\n",
    "3. split data out of specific fields and into new simpler\n",
    "   fields,\n",
    "4. use Pandas to understand the underlying distrubution\n",
    "   of certain data.\n",
    "\n",
    "\n"
   ]
  },
  {
   "cell_type": "markdown",
   "id": "39c0a926",
   "metadata": {},
   "source": [
    "**&#167; Task:**  **Use the file of URLs from the first assignment to load the data from 2014-2024 and store it all into a single file.**\n"
   ]
  },
  {
   "cell_type": "code",
   "execution_count": null,
   "id": "2dcb7eff",
   "metadata": {},
   "outputs": [],
   "source": [
    "# CODE SOLUTION HERE"
   ]
  },
  {
   "cell_type": "markdown",
   "id": "8bdc2dbc",
   "metadata": {},
   "source": [
    "**&#167; Task:**  **Convert categorical fields to numeric ones.**\n",
    "\n",
    "We will convert these to numeric values using the following guidance:\n",
    "\n",
    "* \"clear\" &#8594; 0\n",
    "* \"1/4 of sky\" &#8594; 0.25\n",
    "* \"1/2 of sky\" &#8594; 0.50\n",
    "* \"over 1/2 of sky\" &#8594; 0.75"
   ]
  },
  {
   "cell_type": "code",
   "execution_count": null,
   "id": "42c8b115",
   "metadata": {},
   "outputs": [],
   "source": [
    "# CODE SOLUTION HERE"
   ]
  },
  {
   "cell_type": "markdown",
   "id": "74f13d28",
   "metadata": {},
   "source": [
    "**&#167; Task:**  **Convert `Constellation` to numeric binary values (binarize the column).**\n"
   ]
  },
  {
   "cell_type": "code",
   "execution_count": null,
   "id": "af765a57",
   "metadata": {},
   "outputs": [],
   "source": [
    "# CODE SOLUTION HERE"
   ]
  },
  {
   "cell_type": "markdown",
   "id": "8284cba7",
   "metadata": {},
   "source": [
    "**&#167; Task:**  **Create 5 binary columns `loc_urban`, `loc_suburban`, `loc_rural`, `loc_remote` and `loc_unknown`.**"
   ]
  },
  {
   "cell_type": "code",
   "execution_count": null,
   "id": "2beee9f0",
   "metadata": {},
   "outputs": [],
   "source": [
    "# CODE SOLUTION HERE"
   ]
  },
  {
   "cell_type": "markdown",
   "id": "cbaa57bf",
   "metadata": {},
   "source": [
    "**&#167; Task:**  **Merge `LocalDate` and `LocalTime` and convert to a `datetime` object.**\n"
   ]
  },
  {
   "cell_type": "code",
   "execution_count": null,
   "id": "dc8422b9",
   "metadata": {},
   "outputs": [],
   "source": [
    "# CODE SOLUTION HERE"
   ]
  },
  {
   "cell_type": "markdown",
   "id": "e800a922",
   "metadata": {},
   "source": [
    "**&#167; Task:**  **Convert missing `SQMReading` values to `-1`.**"
   ]
  },
  {
   "cell_type": "code",
   "execution_count": null,
   "id": "75bed238",
   "metadata": {},
   "outputs": [],
   "source": [
    "# CODE SOLUTION HERE"
   ]
  },
  {
   "cell_type": "markdown",
   "id": "73097abb",
   "metadata": {},
   "source": [
    "**&#167; Task:**  **Store a new dataset file with a reduced set columns which include our numeric ones.** "
   ]
  },
  {
   "cell_type": "code",
   "execution_count": null,
   "id": "a8928c0d",
   "metadata": {},
   "outputs": [],
   "source": [
    "# CODE SOLUTION HERE"
   ]
  }
 ],
 "metadata": {
  "kernelspec": {
   "display_name": "Python [conda env:unidata-standard]",
   "language": "python",
   "name": "conda-env-unidata-standard-py"
  },
  "language_info": {
   "codemirror_mode": {
    "name": "ipython",
    "version": 3
   },
   "file_extension": ".py",
   "mimetype": "text/x-python",
   "name": "python",
   "nbconvert_exporter": "python",
   "pygments_lexer": "ipython3",
   "version": "3.12.11"
  }
 },
 "nbformat": 4,
 "nbformat_minor": 5
}
